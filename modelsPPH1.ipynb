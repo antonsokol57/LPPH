{
 "cells": [
  {
   "cell_type": "code",
   "execution_count": 1,
   "metadata": {},
   "outputs": [],
   "source": [
    "import numpy as np\n",
    "import networkx as nx\n",
    "import random\n",
    "import torch\n",
    "import torch.nn as nn\n",
    "from torch.nn import Linear\n",
    "import torch.optim as optim\n",
    "import torch.nn.functional as F\n",
    "import matplotlib.pyplot as plt\n",
    "from features import (\n",
    "    compute_edge_features_parallel,\n",
    "    compute_node_features_parallel,\n",
    "    ListDigraph,\n",
    ")\n",
    "from torch_geometric.nn import GATConv, SAGEConv\n",
    "from sklearn.metrics import roc_auc_score, accuracy_score, precision_score, roc_curve\n",
    "from sklearn.model_selection import train_test_split\n",
    "import warnings\n",
    "import copy\n",
    "from node2vec import Node2Vec\n",
    "from scipy.stats import ttest_rel\n"
   ]
  },
  {
   "cell_type": "markdown",
   "metadata": {},
   "source": [
    "### LAYERS AND MODEL"
   ]
  },
  {
   "cell_type": "code",
   "execution_count": 3,
   "metadata": {},
   "outputs": [],
   "source": [
    "\n",
    "def generate_negative_samples(graph, num_negatives):\n",
    "    num_nodes = len(graph.nodes())\n",
    "    existing_edges = set(graph.edges())\n",
    "    neg_samples = []\n",
    "\n",
    "    while len(neg_samples) < num_negatives:\n",
    "        u, v = np.random.randint(0, num_nodes, size=2)\n",
    "        if (u, v) not in existing_edges and u != v:  # Avoid duplicates and self-loops\n",
    "            neg_samples.append((u, v))\n",
    "    return neg_samples\n",
    "\n",
    "\n",
    "class DirGCNConv(torch.nn.Module):\n",
    "    def __init__(self, input_dim, output_dim, alpha=0.5):\n",
    "        super().__init__()\n",
    "        self.input_dim = input_dim\n",
    "        self.output_dim = output_dim\n",
    "        self.alpha = torch.nn.Parameter(torch.tensor([alpha]))\n",
    "\n",
    "        self.lin_src_to_dst = Linear(input_dim, output_dim)\n",
    "        self.lin_dst_to_src = Linear(input_dim, output_dim)\n",
    "\n",
    "        # Will cache normalized adjacency matrices\n",
    "        self.adj_norm = None\n",
    "        self.adj_t_norm = None\n",
    "\n",
    "    def forward(self, x, edge_index):\n",
    "        if self.adj_norm is None:\n",
    "            num_nodes = x.size(0)\n",
    "            row, col = edge_index\n",
    "\n",
    "            # Create original adjacency matrix (source to destination)\n",
    "            adj = self._build_sparse_adj(row, col, num_nodes)\n",
    "            self.adj_norm = self._normalize_adj(adj, row)\n",
    "\n",
    "            # Create transposed adjacency matrix (destination to source)\n",
    "            adj_t = self._build_sparse_adj(col, row, num_nodes)\n",
    "            self.adj_t_norm = self._normalize_adj(adj_t, col)\n",
    "\n",
    "        # Perform message passing\n",
    "        src_emb = torch.sparse.mm(self.adj_norm, x)\n",
    "        dst_emb = torch.sparse.mm(self.adj_t_norm, x)\n",
    "\n",
    "        return self.alpha * self.lin_src_to_dst(src_emb) + (\n",
    "            1 - self.alpha\n",
    "        ) * self.lin_dst_to_src(dst_emb)\n",
    "\n",
    "    def _build_sparse_adj(self, row, col, num_nodes):\n",
    "        \"\"\"Create sparse adjacency matrix\"\"\"\n",
    "        indices = torch.stack([row, col])\n",
    "        values = torch.ones(row.size(0), device=row.device)\n",
    "        return torch.sparse_coo_tensor(\n",
    "            indices, values, size=(num_nodes, num_nodes)\n",
    "        ).coalesce()\n",
    "\n",
    "    def _normalize_adj(self, adj, row_indices):\n",
    "        \"\"\"Row-normalize adjacency matrix\"\"\"\n",
    "        # Calculate out-degrees\n",
    "        out_degree = torch.sparse.sum(adj, dim=1).to_dense()\n",
    "\n",
    "        # Handle zero out-degrees\n",
    "        out_degree[out_degree == 0] = 1.0\n",
    "\n",
    "        # Create normalization diagonal matrix\n",
    "        norm = torch.diag(1.0 / torch.sqrt(out_degree))\n",
    "\n",
    "        # Normalize adjacency matrix: D^(-1/2)AD^(-1/2)\n",
    "        return torch.sparse.mm(torch.sparse.mm(norm.to_sparse(), adj), norm.to_sparse())\n",
    "\n",
    "\n",
    "class DirSageConv(torch.nn.Module):\n",
    "    def __init__(self, input_dim, output_dim, alpha=0.5):\n",
    "        super(DirSageConv, self).__init__()\n",
    "        self.input_dim = input_dim\n",
    "        self.output_dim = output_dim\n",
    "        self.conv_src_to_dst = SAGEConv(input_dim, output_dim, flow=\"source_to_target\", root_weight=False)\n",
    "        self.conv_dst_to_src = SAGEConv(input_dim, output_dim, flow=\"target_to_source\", root_weight=False)\n",
    "        self.lin_self = Linear(input_dim, output_dim)\n",
    "        self.alpha = alpha\n",
    "\n",
    "    def forward(self, x, edge_index):\n",
    "        return (\n",
    "            self.lin_self(x)\n",
    "            + (1 - self.alpha) * self.conv_src_to_dst(x, edge_index)\n",
    "            + self.alpha * self.conv_dst_to_src(x, edge_index)\n",
    "        )\n",
    "\n",
    "\n",
    "class DirGATConv(torch.nn.Module):\n",
    "    def __init__(self, input_dim, output_dim, heads=2, alpha=0.5, concat=False):\n",
    "        super(DirGATConv, self).__init__()\n",
    "        self.input_dim = input_dim\n",
    "        self.output_dim = output_dim\n",
    "        self.conv_src_to_dst = GATConv(input_dim, output_dim, heads=heads, concat=concat)\n",
    "        self.conv_dst_to_src = GATConv(input_dim, output_dim, heads=heads, concat=concat)\n",
    "        self.alpha = alpha\n",
    "\n",
    "    def forward(self, x, edge_index):\n",
    "        # For the reverse direction, simply swap the edge indices.\n",
    "        edge_index_t = torch.stack([edge_index[1], edge_index[0]], dim=0)\n",
    "        return (1 - self.alpha) * self.conv_src_to_dst(x, edge_index) + \\\n",
    "               self.alpha * self.conv_dst_to_src(x, edge_index_t)\n",
    "    \n",
    "\n",
    "class LinkPredictionModel(nn.Module):\n",
    "    def __init__(\n",
    "        self,\n",
    "        type,\n",
    "        in_feats,\n",
    "        gnn_hidden_size,\n",
    "        edge_feature_use,\n",
    "        edge_emb_size,\n",
    "        fc_hidden_size,\n",
    "        num_hidden_layers,\n",
    "        gnn_layers,\n",
    "    ):\n",
    "        super(LinkPredictionModel, self).__init__()\n",
    "        if type == 'dirGCN':\n",
    "            self.gnns = nn.ModuleList(\n",
    "                [\n",
    "                    DirGCNConv(in_feats if i == 0 else gnn_hidden_size, gnn_hidden_size)\n",
    "                    for i in range(gnn_layers)\n",
    "                ]\n",
    "            )\n",
    "        elif type == 'dirSage':\n",
    "            self.gnns = nn.ModuleList(\n",
    "            [\n",
    "                DirSageConv(in_feats if i == 0 else gnn_hidden_size, gnn_hidden_size)\n",
    "                for i in range(gnn_layers)\n",
    "            ]\n",
    "        )\n",
    "        elif type == 'dirGAT':\n",
    "            self.gnns = nn.ModuleList(\n",
    "            [\n",
    "                DirGATConv(in_feats if i == 0 else gnn_hidden_size, gnn_hidden_size)\n",
    "                for i in range(gnn_layers)\n",
    "            ]\n",
    "        )\n",
    "        if edge_feature_use:\n",
    "            fc_size = 2 * gnn_hidden_size + edge_emb_size\n",
    "        else:\n",
    "            fc_size = 2 * gnn_hidden_size\n",
    "        layers = []\n",
    "        input_size = fc_size\n",
    "        for _ in range(num_hidden_layers):  # add as many hidden layers as desired\n",
    "            layers.append(nn.Linear(input_size, fc_hidden_size))\n",
    "            layers.append(nn.ReLU())\n",
    "            input_size = fc_hidden_size  # update for next layer\n",
    "\n",
    "        # Add final output layer\n",
    "        layers.append(nn.Linear(input_size, 1))\n",
    "        self.fc = nn.Sequential(*layers)\n",
    "        \n",
    "        self.use=edge_feature_use\n",
    "\n",
    "    def forward(self, adj, u, v, edge_features, features):\n",
    "        # Apply GNN layers\n",
    "        for gnn in self.gnns:\n",
    "            features = gnn(features, adj)\n",
    "            features = F.relu(features)\n",
    "\n",
    "        u_feats = features[u]  # (batch_size, gnn_hidden_size)\n",
    "        v_feats = features[v]  # (batch_size, gnn_hidden_size)\n",
    "        if self.use:\n",
    "            combined = torch.cat([u_feats, v_feats, edge_features], dim=1)\n",
    "        else:\n",
    "            combined = torch.cat([u_feats, v_feats], dim=1)\n",
    "        # Fully connected layers for link prediction\n",
    "        return torch.sigmoid(self.fc(combined))\n",
    "\n"
   ]
  },
  {
   "cell_type": "code",
   "execution_count": 3,
   "metadata": {},
   "outputs": [
    {
     "name": "stdout",
     "output_type": "stream",
     "text": [
      "\n",
      "===== CALCULATING bison with 5 =====\n",
      "we have a digraph with 26 nodes and 314 edges\n",
      "\n",
      "=== Trial 1/10 ===\n"
     ]
    },
    {
     "name": "stderr",
     "output_type": "stream",
     "text": [
      "100%|██████████| 508/508 [00:03<00:00, 153.73it/s]\n",
      "100%|██████████| 57/57 [00:01<00:00, 33.62it/s]\n",
      "100%|██████████| 63/63 [00:01<00:00, 41.69it/s]\n",
      "Computing transition probabilities: 100%|██████████| 26/26 [00:00<00:00, 4693.43it/s]\n",
      "C:\\Users\\USER\\AppData\\Local\\Temp\\ipykernel_17952\\774594561.py:68: UserWarning: Sparse CSR tensor support is in beta state. If you miss a functionality in the sparse tensor support, please submit a feature request to https://github.com/pytorch/pytorch/issues. (Triggered internally at C:\\actions-runner\\_work\\pytorch\\pytorch\\pytorch\\aten\\src\\ATen\\SparseCsrTensorImpl.cpp:55.)\n",
      "  return torch.sparse.mm(torch.sparse.mm(norm.to_sparse(), adj), norm.to_sparse())\n"
     ]
    },
    {
     "name": "stdout",
     "output_type": "stream",
     "text": [
      "dirGCN with PPH: AUC = 0.7470\n"
     ]
    },
    {
     "name": "stderr",
     "output_type": "stream",
     "text": [
      "Computing transition probabilities: 100%|██████████| 26/26 [00:00<00:00, 4332.44it/s]\n"
     ]
    },
    {
     "name": "stdout",
     "output_type": "stream",
     "text": [
      "dirGCN without PPH: AUC = 0.7248\n"
     ]
    },
    {
     "name": "stderr",
     "output_type": "stream",
     "text": [
      "Computing transition probabilities: 100%|██████████| 26/26 [00:00<00:00, 3713.54it/s]\n"
     ]
    },
    {
     "name": "stdout",
     "output_type": "stream",
     "text": [
      "dirSage with PPH: AUC = 0.7520\n"
     ]
    },
    {
     "name": "stderr",
     "output_type": "stream",
     "text": [
      "Computing transition probabilities: 100%|██████████| 26/26 [00:00<00:00, 3713.29it/s]\n"
     ]
    },
    {
     "name": "stdout",
     "output_type": "stream",
     "text": [
      "dirSage without PPH: AUC = 0.7329\n"
     ]
    },
    {
     "name": "stderr",
     "output_type": "stream",
     "text": [
      "Computing transition probabilities: 100%|██████████| 26/26 [00:00<00:00, 4332.44it/s]\n"
     ]
    },
    {
     "name": "stdout",
     "output_type": "stream",
     "text": [
      "dirGAT with PPH: AUC = 0.7611\n"
     ]
    },
    {
     "name": "stderr",
     "output_type": "stream",
     "text": [
      "Computing transition probabilities: 100%|██████████| 26/26 [00:00<00:00, 4332.10it/s]\n"
     ]
    },
    {
     "name": "stdout",
     "output_type": "stream",
     "text": [
      "dirGAT without PPH: AUC = 0.7167\n",
      "\n",
      "=== Trial 2/10 ===\n"
     ]
    },
    {
     "name": "stderr",
     "output_type": "stream",
     "text": [
      "100%|██████████| 508/508 [00:03<00:00, 164.04it/s]\n",
      "100%|██████████| 57/57 [00:01<00:00, 38.40it/s]\n",
      "100%|██████████| 63/63 [00:01<00:00, 41.99it/s]\n",
      "Computing transition probabilities: 100%|██████████| 26/26 [00:00<00:00, 5729.32it/s]\n"
     ]
    },
    {
     "name": "stdout",
     "output_type": "stream",
     "text": [
      "dirGCN with PPH: AUC = 0.7903\n"
     ]
    },
    {
     "name": "stderr",
     "output_type": "stream",
     "text": [
      "Computing transition probabilities: 100%|██████████| 26/26 [00:00<00:00, 4332.44it/s]\n"
     ]
    },
    {
     "name": "stdout",
     "output_type": "stream",
     "text": [
      "dirGCN without PPH: AUC = 0.7913\n"
     ]
    },
    {
     "name": "stderr",
     "output_type": "stream",
     "text": [
      "Computing transition probabilities: 100%|██████████| 26/26 [00:00<00:00, 4332.44it/s]\n"
     ]
    },
    {
     "name": "stdout",
     "output_type": "stream",
     "text": [
      "dirSage with PPH: AUC = 0.8347\n"
     ]
    },
    {
     "name": "stderr",
     "output_type": "stream",
     "text": [
      "Computing transition probabilities: 100%|██████████| 26/26 [00:00<00:00, 3713.42it/s]\n"
     ]
    },
    {
     "name": "stdout",
     "output_type": "stream",
     "text": [
      "dirSage without PPH: AUC = 0.8115\n"
     ]
    },
    {
     "name": "stderr",
     "output_type": "stream",
     "text": [
      "Computing transition probabilities: 100%|██████████| 26/26 [00:00<00:00, 4332.10it/s]\n"
     ]
    },
    {
     "name": "stdout",
     "output_type": "stream",
     "text": [
      "dirGAT with PPH: AUC = 0.7359\n"
     ]
    },
    {
     "name": "stderr",
     "output_type": "stream",
     "text": [
      "Computing transition probabilities: 100%|██████████| 26/26 [00:00<00:00, 4332.10it/s]\n"
     ]
    },
    {
     "name": "stdout",
     "output_type": "stream",
     "text": [
      "dirGAT without PPH: AUC = 0.7883\n",
      "\n",
      "=== Trial 3/10 ===\n"
     ]
    },
    {
     "name": "stderr",
     "output_type": "stream",
     "text": [
      "100%|██████████| 508/508 [00:03<00:00, 161.43it/s]\n",
      "100%|██████████| 57/57 [00:01<00:00, 35.66it/s]\n",
      "100%|██████████| 63/63 [00:01<00:00, 39.02it/s]\n",
      "Computing transition probabilities: 100%|██████████| 26/26 [00:00<00:00, 4332.27it/s]\n"
     ]
    },
    {
     "name": "stdout",
     "output_type": "stream",
     "text": [
      "dirGCN with PPH: AUC = 0.7903\n"
     ]
    },
    {
     "name": "stderr",
     "output_type": "stream",
     "text": [
      "Computing transition probabilities: 100%|██████████| 26/26 [00:00<00:00, 4330.55it/s]\n"
     ]
    },
    {
     "name": "stdout",
     "output_type": "stream",
     "text": [
      "dirGCN without PPH: AUC = 0.8286\n"
     ]
    },
    {
     "name": "stderr",
     "output_type": "stream",
     "text": [
      "Computing transition probabilities: 100%|██████████| 26/26 [00:00<00:00, 4330.72it/s]\n"
     ]
    },
    {
     "name": "stdout",
     "output_type": "stream",
     "text": [
      "dirSage with PPH: AUC = 0.7530\n"
     ]
    },
    {
     "name": "stderr",
     "output_type": "stream",
     "text": [
      "Computing transition probabilities: 100%|██████████| 26/26 [00:00<00:00, 4332.96it/s]\n"
     ]
    },
    {
     "name": "stdout",
     "output_type": "stream",
     "text": [
      "dirSage without PPH: AUC = 0.7308\n"
     ]
    },
    {
     "name": "stderr",
     "output_type": "stream",
     "text": [
      "Computing transition probabilities: 100%|██████████| 26/26 [00:00<00:00, 4333.13it/s]\n"
     ]
    },
    {
     "name": "stdout",
     "output_type": "stream",
     "text": [
      "dirGAT with PPH: AUC = 0.7188\n"
     ]
    },
    {
     "name": "stderr",
     "output_type": "stream",
     "text": [
      "Computing transition probabilities: 100%|██████████| 26/26 [00:00<00:00, 3461.53it/s]\n"
     ]
    },
    {
     "name": "stdout",
     "output_type": "stream",
     "text": [
      "dirGAT without PPH: AUC = 0.6058\n",
      "\n",
      "=== Trial 4/10 ===\n"
     ]
    },
    {
     "name": "stderr",
     "output_type": "stream",
     "text": [
      "100%|██████████| 508/508 [00:03<00:00, 165.12it/s]\n",
      "100%|██████████| 57/57 [00:01<00:00, 37.28it/s]\n",
      "100%|██████████| 63/63 [00:01<00:00, 40.12it/s]\n",
      "Computing transition probabilities: 100%|██████████| 26/26 [00:00<00:00, 4332.10it/s]\n"
     ]
    },
    {
     "name": "stdout",
     "output_type": "stream",
     "text": [
      "dirGCN with PPH: AUC = 0.8004\n"
     ]
    },
    {
     "name": "stderr",
     "output_type": "stream",
     "text": [
      "Computing transition probabilities: 100%|██████████| 26/26 [00:00<00:00, 4083.73it/s]\n"
     ]
    },
    {
     "name": "stdout",
     "output_type": "stream",
     "text": [
      "dirGCN without PPH: AUC = 0.7218\n"
     ]
    },
    {
     "name": "stderr",
     "output_type": "stream",
     "text": [
      "Computing transition probabilities: 100%|██████████| 26/26 [00:00<00:00, 4332.44it/s]\n"
     ]
    },
    {
     "name": "stdout",
     "output_type": "stream",
     "text": [
      "dirSage with PPH: AUC = 0.8095\n"
     ]
    },
    {
     "name": "stderr",
     "output_type": "stream",
     "text": [
      "Computing transition probabilities: 100%|██████████| 26/26 [00:00<00:00, 4332.44it/s]\n"
     ]
    },
    {
     "name": "stdout",
     "output_type": "stream",
     "text": [
      "dirSage without PPH: AUC = 0.7369\n"
     ]
    },
    {
     "name": "stderr",
     "output_type": "stream",
     "text": [
      "Computing transition probabilities: 100%|██████████| 26/26 [00:00<00:00, 3940.16it/s]\n"
     ]
    },
    {
     "name": "stdout",
     "output_type": "stream",
     "text": [
      "dirGAT with PPH: AUC = 0.8115\n"
     ]
    },
    {
     "name": "stderr",
     "output_type": "stream",
     "text": [
      "Computing transition probabilities: 100%|██████████| 26/26 [00:00<00:00, 4332.61it/s]\n"
     ]
    },
    {
     "name": "stdout",
     "output_type": "stream",
     "text": [
      "dirGAT without PPH: AUC = 0.7379\n",
      "\n",
      "=== Trial 5/10 ===\n"
     ]
    },
    {
     "name": "stderr",
     "output_type": "stream",
     "text": [
      "100%|██████████| 508/508 [00:03<00:00, 163.57it/s]\n",
      "100%|██████████| 57/57 [00:01<00:00, 37.00it/s]\n",
      "100%|██████████| 63/63 [00:01<00:00, 41.21it/s]\n",
      "Computing transition probabilities: 100%|██████████| 26/26 [00:00<00:00, 4691.01it/s]\n"
     ]
    },
    {
     "name": "stdout",
     "output_type": "stream",
     "text": [
      "dirGCN with PPH: AUC = 0.7228\n"
     ]
    },
    {
     "name": "stderr",
     "output_type": "stream",
     "text": [
      "Computing transition probabilities: 100%|██████████| 26/26 [00:00<00:00, 4331.58it/s]\n"
     ]
    },
    {
     "name": "stdout",
     "output_type": "stream",
     "text": [
      "dirGCN without PPH: AUC = 0.7843\n"
     ]
    },
    {
     "name": "stderr",
     "output_type": "stream",
     "text": [
      "Computing transition probabilities: 100%|██████████| 26/26 [00:00<00:00, 4332.10it/s]\n"
     ]
    },
    {
     "name": "stdout",
     "output_type": "stream",
     "text": [
      "dirSage with PPH: AUC = 0.7440\n"
     ]
    },
    {
     "name": "stderr",
     "output_type": "stream",
     "text": [
      "Computing transition probabilities: 100%|██████████| 26/26 [00:00<00:00, 5198.89it/s]\n"
     ]
    },
    {
     "name": "stdout",
     "output_type": "stream",
     "text": [
      "dirSage without PPH: AUC = 0.8024\n"
     ]
    },
    {
     "name": "stderr",
     "output_type": "stream",
     "text": [
      "Computing transition probabilities: 100%|██████████| 26/26 [00:00<00:00, 4332.79it/s]\n"
     ]
    },
    {
     "name": "stdout",
     "output_type": "stream",
     "text": [
      "dirGAT with PPH: AUC = 0.7046\n"
     ]
    },
    {
     "name": "stderr",
     "output_type": "stream",
     "text": [
      "Computing transition probabilities: 100%|██████████| 26/26 [00:00<00:00, 5198.89it/s]\n"
     ]
    },
    {
     "name": "stdout",
     "output_type": "stream",
     "text": [
      "dirGAT without PPH: AUC = 0.7863\n",
      "\n",
      "=== Trial 6/10 ===\n"
     ]
    },
    {
     "name": "stderr",
     "output_type": "stream",
     "text": [
      "100%|██████████| 508/508 [00:03<00:00, 166.60it/s]\n",
      "100%|██████████| 57/57 [00:01<00:00, 37.23it/s]\n",
      "100%|██████████| 63/63 [00:01<00:00, 41.69it/s]\n",
      "Computing transition probabilities: 100%|██████████| 26/26 [00:00<00:00, 4332.44it/s]\n"
     ]
    },
    {
     "name": "stdout",
     "output_type": "stream",
     "text": [
      "dirGCN with PPH: AUC = 0.7873\n"
     ]
    },
    {
     "name": "stderr",
     "output_type": "stream",
     "text": [
      "Computing transition probabilities: 100%|██████████| 26/26 [00:00<00:00, 3713.42it/s]\n"
     ]
    },
    {
     "name": "stdout",
     "output_type": "stream",
     "text": [
      "dirGCN without PPH: AUC = 0.7268\n"
     ]
    },
    {
     "name": "stderr",
     "output_type": "stream",
     "text": [
      "Computing transition probabilities: 100%|██████████| 26/26 [00:00<00:00, 3713.42it/s]\n"
     ]
    },
    {
     "name": "stdout",
     "output_type": "stream",
     "text": [
      "dirSage with PPH: AUC = 0.7560\n"
     ]
    },
    {
     "name": "stderr",
     "output_type": "stream",
     "text": [
      "Computing transition probabilities: 100%|██████████| 26/26 [00:00<00:00, 4332.27it/s]\n"
     ]
    },
    {
     "name": "stdout",
     "output_type": "stream",
     "text": [
      "dirSage without PPH: AUC = 0.7339\n"
     ]
    },
    {
     "name": "stderr",
     "output_type": "stream",
     "text": [
      "Computing transition probabilities: 100%|██████████| 26/26 [00:00<00:00, 3714.30it/s]\n"
     ]
    },
    {
     "name": "stdout",
     "output_type": "stream",
     "text": [
      "dirGAT with PPH: AUC = 0.7671\n"
     ]
    },
    {
     "name": "stderr",
     "output_type": "stream",
     "text": [
      "Computing transition probabilities: 100%|██████████| 26/26 [00:00<00:00, 4332.61it/s]\n"
     ]
    },
    {
     "name": "stdout",
     "output_type": "stream",
     "text": [
      "dirGAT without PPH: AUC = 0.7611\n",
      "\n",
      "=== Trial 7/10 ===\n"
     ]
    },
    {
     "name": "stderr",
     "output_type": "stream",
     "text": [
      "100%|██████████| 508/508 [00:02<00:00, 170.62it/s]\n",
      "100%|██████████| 57/57 [00:01<00:00, 38.00it/s]\n",
      "100%|██████████| 63/63 [00:01<00:00, 41.66it/s]\n",
      "Computing transition probabilities: 100%|██████████| 26/26 [00:00<00:00, 4332.44it/s]\n"
     ]
    },
    {
     "name": "stdout",
     "output_type": "stream",
     "text": [
      "dirGCN with PPH: AUC = 0.8397\n"
     ]
    },
    {
     "name": "stderr",
     "output_type": "stream",
     "text": [
      "Computing transition probabilities: 100%|██████████| 26/26 [00:00<00:00, 3713.42it/s]\n"
     ]
    },
    {
     "name": "stdout",
     "output_type": "stream",
     "text": [
      "dirGCN without PPH: AUC = 0.8599\n"
     ]
    },
    {
     "name": "stderr",
     "output_type": "stream",
     "text": [
      "Computing transition probabilities: 100%|██████████| 26/26 [00:00<00:00, 4332.79it/s]\n"
     ]
    },
    {
     "name": "stdout",
     "output_type": "stream",
     "text": [
      "dirSage with PPH: AUC = 0.8710\n"
     ]
    },
    {
     "name": "stderr",
     "output_type": "stream",
     "text": [
      "Computing transition probabilities: 100%|██████████| 26/26 [00:00<00:00, 3713.42it/s]\n"
     ]
    },
    {
     "name": "stdout",
     "output_type": "stream",
     "text": [
      "dirSage without PPH: AUC = 0.8569\n"
     ]
    },
    {
     "name": "stderr",
     "output_type": "stream",
     "text": [
      "Computing transition probabilities: 100%|██████████| 26/26 [00:00<00:00, 4332.27it/s]\n"
     ]
    },
    {
     "name": "stdout",
     "output_type": "stream",
     "text": [
      "dirGAT with PPH: AUC = 0.8639\n"
     ]
    },
    {
     "name": "stderr",
     "output_type": "stream",
     "text": [
      "Computing transition probabilities: 100%|██████████| 26/26 [00:00<00:00, 4332.10it/s]\n"
     ]
    },
    {
     "name": "stdout",
     "output_type": "stream",
     "text": [
      "dirGAT without PPH: AUC = 0.8569\n",
      "\n",
      "=== Trial 8/10 ===\n"
     ]
    },
    {
     "name": "stderr",
     "output_type": "stream",
     "text": [
      "100%|██████████| 508/508 [00:03<00:00, 165.59it/s]\n",
      "100%|██████████| 57/57 [00:01<00:00, 37.94it/s]\n",
      "100%|██████████| 63/63 [00:01<00:00, 41.34it/s]\n",
      "Computing transition probabilities: 100%|██████████| 26/26 [00:00<00:00, 5199.14it/s]\n"
     ]
    },
    {
     "name": "stdout",
     "output_type": "stream",
     "text": [
      "dirGCN with PPH: AUC = 0.7308\n"
     ]
    },
    {
     "name": "stderr",
     "output_type": "stream",
     "text": [
      "Computing transition probabilities: 100%|██████████| 26/26 [00:00<00:00, 3992.09it/s]\n"
     ]
    },
    {
     "name": "stdout",
     "output_type": "stream",
     "text": [
      "dirGCN without PPH: AUC = 0.7429\n"
     ]
    },
    {
     "name": "stderr",
     "output_type": "stream",
     "text": [
      "Computing transition probabilities: 100%|██████████| 26/26 [00:00<00:00, 3712.91it/s]\n"
     ]
    },
    {
     "name": "stdout",
     "output_type": "stream",
     "text": [
      "dirSage with PPH: AUC = 0.7298\n"
     ]
    },
    {
     "name": "stderr",
     "output_type": "stream",
     "text": [
      "Computing transition probabilities: 100%|██████████| 26/26 [00:00<00:00, 4332.79it/s]\n"
     ]
    },
    {
     "name": "stdout",
     "output_type": "stream",
     "text": [
      "dirSage without PPH: AUC = 0.7520\n"
     ]
    },
    {
     "name": "stderr",
     "output_type": "stream",
     "text": [
      "Computing transition probabilities: 100%|██████████| 26/26 [00:00<00:00, 4332.27it/s]\n"
     ]
    },
    {
     "name": "stdout",
     "output_type": "stream",
     "text": [
      "dirGAT with PPH: AUC = 0.7228\n"
     ]
    },
    {
     "name": "stderr",
     "output_type": "stream",
     "text": [
      "Computing transition probabilities: 100%|██████████| 26/26 [00:00<00:00, 4331.93it/s]\n"
     ]
    },
    {
     "name": "stdout",
     "output_type": "stream",
     "text": [
      "dirGAT without PPH: AUC = 0.7661\n",
      "\n",
      "=== Trial 9/10 ===\n"
     ]
    },
    {
     "name": "stderr",
     "output_type": "stream",
     "text": [
      "100%|██████████| 508/508 [00:03<00:00, 168.13it/s]\n",
      "100%|██████████| 57/57 [00:01<00:00, 37.69it/s]\n",
      "100%|██████████| 63/63 [00:01<00:00, 42.12it/s]\n",
      "Computing transition probabilities: 100%|██████████| 26/26 [00:00<00:00, 4336.06it/s]\n"
     ]
    },
    {
     "name": "stdout",
     "output_type": "stream",
     "text": [
      "dirGCN with PPH: AUC = 0.7853\n"
     ]
    },
    {
     "name": "stderr",
     "output_type": "stream",
     "text": [
      "Computing transition probabilities: 100%|██████████| 26/26 [00:00<00:00, 3713.67it/s]\n"
     ]
    },
    {
     "name": "stdout",
     "output_type": "stream",
     "text": [
      "dirGCN without PPH: AUC = 0.7651\n"
     ]
    },
    {
     "name": "stderr",
     "output_type": "stream",
     "text": [
      "Computing transition probabilities: 100%|██████████| 26/26 [00:00<00:00, 4332.27it/s]\n"
     ]
    },
    {
     "name": "stdout",
     "output_type": "stream",
     "text": [
      "dirSage with PPH: AUC = 0.7550\n"
     ]
    },
    {
     "name": "stderr",
     "output_type": "stream",
     "text": [
      "Computing transition probabilities: 100%|██████████| 26/26 [00:00<00:00, 4332.79it/s]\n"
     ]
    },
    {
     "name": "stdout",
     "output_type": "stream",
     "text": [
      "dirSage without PPH: AUC = 0.7560\n"
     ]
    },
    {
     "name": "stderr",
     "output_type": "stream",
     "text": [
      "Computing transition probabilities: 100%|██████████| 26/26 [00:00<00:00, 3713.54it/s]\n"
     ]
    },
    {
     "name": "stdout",
     "output_type": "stream",
     "text": [
      "dirGAT with PPH: AUC = 0.7389\n"
     ]
    },
    {
     "name": "stderr",
     "output_type": "stream",
     "text": [
      "Computing transition probabilities: 100%|██████████| 26/26 [00:00<00:00, 3713.16it/s]\n"
     ]
    },
    {
     "name": "stdout",
     "output_type": "stream",
     "text": [
      "dirGAT without PPH: AUC = 0.7490\n",
      "\n",
      "=== Trial 10/10 ===\n"
     ]
    },
    {
     "name": "stderr",
     "output_type": "stream",
     "text": [
      "100%|██████████| 508/508 [00:03<00:00, 167.28it/s]\n",
      "100%|██████████| 57/57 [00:01<00:00, 37.98it/s]\n",
      "100%|██████████| 63/63 [00:01<00:00, 42.40it/s]\n",
      "Computing transition probabilities: 100%|██████████| 26/26 [00:00<00:00, 5198.39it/s]\n"
     ]
    },
    {
     "name": "stdout",
     "output_type": "stream",
     "text": [
      "dirGCN with PPH: AUC = 0.8226\n"
     ]
    },
    {
     "name": "stderr",
     "output_type": "stream",
     "text": [
      "Computing transition probabilities: 100%|██████████| 26/26 [00:00<00:00, 4332.44it/s]\n"
     ]
    },
    {
     "name": "stdout",
     "output_type": "stream",
     "text": [
      "dirGCN without PPH: AUC = 0.7853\n"
     ]
    },
    {
     "name": "stderr",
     "output_type": "stream",
     "text": [
      "Computing transition probabilities: 100%|██████████| 26/26 [00:00<00:00, 3713.42it/s]\n"
     ]
    },
    {
     "name": "stdout",
     "output_type": "stream",
     "text": [
      "dirSage with PPH: AUC = 0.7913\n"
     ]
    },
    {
     "name": "stderr",
     "output_type": "stream",
     "text": [
      "Computing transition probabilities: 100%|██████████| 26/26 [00:00<00:00, 4332.27it/s]\n"
     ]
    },
    {
     "name": "stdout",
     "output_type": "stream",
     "text": [
      "dirSage without PPH: AUC = 0.7571\n"
     ]
    },
    {
     "name": "stderr",
     "output_type": "stream",
     "text": [
      "Computing transition probabilities: 100%|██████████| 26/26 [00:00<00:00, 3364.14it/s]\n"
     ]
    },
    {
     "name": "stdout",
     "output_type": "stream",
     "text": [
      "dirGAT with PPH: AUC = 0.7833\n"
     ]
    },
    {
     "name": "stderr",
     "output_type": "stream",
     "text": [
      "Computing transition probabilities: 100%|██████████| 26/26 [00:00<00:00, 4332.79it/s]\n"
     ]
    },
    {
     "name": "stdout",
     "output_type": "stream",
     "text": [
      "dirGAT without PPH: AUC = 0.7671\n",
      "\n",
      "dirGCN Results:\n",
      "With PPH: Mean AUC = 0.7817 (±0.0358)\n",
      "Without PPH: Mean AUC = 0.7731 (±0.0439)\n",
      "Paired t-test p-value: 0.5507\n",
      "Not significant\n",
      "\n",
      "dirSage Results:\n",
      "With PPH: Mean AUC = 0.7796 (±0.0433)\n",
      "Without PPH: Mean AUC = 0.7670 (±0.0403)\n",
      "Paired t-test p-value: 0.2808\n",
      "Not significant\n",
      "\n",
      "dirGAT Results:\n",
      "With PPH: Mean AUC = 0.7608 (±0.0461)\n",
      "Without PPH: Mean AUC = 0.7535 (±0.0607)\n",
      "Paired t-test p-value: 0.7064\n",
      "Not significant\n",
      "\n",
      "===== CALCULATING bison with 9 =====\n",
      "we have a digraph with 26 nodes and 314 edges\n",
      "\n",
      "=== Trial 1/10 ===\n"
     ]
    },
    {
     "name": "stderr",
     "output_type": "stream",
     "text": [
      "100%|██████████| 508/508 [00:27<00:00, 18.26it/s]\n",
      "100%|██████████| 57/57 [00:04<00:00, 13.40it/s]\n",
      "100%|██████████| 63/63 [00:04<00:00, 13.68it/s]\n",
      "Computing transition probabilities: 100%|██████████| 26/26 [00:00<00:00, 5198.89it/s]\n"
     ]
    },
    {
     "name": "stdout",
     "output_type": "stream",
     "text": [
      "dirGCN with PPH: AUC = 0.6956\n"
     ]
    },
    {
     "name": "stderr",
     "output_type": "stream",
     "text": [
      "Computing transition probabilities: 100%|██████████| 26/26 [00:00<00:00, 3249.17it/s]\n"
     ]
    },
    {
     "name": "stdout",
     "output_type": "stream",
     "text": [
      "dirGCN without PPH: AUC = 0.7248\n"
     ]
    },
    {
     "name": "stderr",
     "output_type": "stream",
     "text": [
      "Computing transition probabilities: 100%|██████████| 26/26 [00:00<00:00, 3713.04it/s]\n"
     ]
    },
    {
     "name": "stdout",
     "output_type": "stream",
     "text": [
      "dirSage with PPH: AUC = 0.7762\n"
     ]
    },
    {
     "name": "stderr",
     "output_type": "stream",
     "text": [
      "Computing transition probabilities: 100%|██████████| 26/26 [00:00<00:00, 4332.27it/s]\n"
     ]
    },
    {
     "name": "stdout",
     "output_type": "stream",
     "text": [
      "dirSage without PPH: AUC = 0.7268\n"
     ]
    },
    {
     "name": "stderr",
     "output_type": "stream",
     "text": [
      "Computing transition probabilities: 100%|██████████| 26/26 [00:00<00:00, 3713.04it/s]\n"
     ]
    },
    {
     "name": "stdout",
     "output_type": "stream",
     "text": [
      "dirGAT with PPH: AUC = 0.6865\n"
     ]
    },
    {
     "name": "stderr",
     "output_type": "stream",
     "text": [
      "Computing transition probabilities: 100%|██████████| 26/26 [00:00<00:00, 3712.91it/s]\n"
     ]
    },
    {
     "name": "stdout",
     "output_type": "stream",
     "text": [
      "dirGAT without PPH: AUC = 0.7984\n",
      "\n",
      "=== Trial 2/10 ===\n"
     ]
    },
    {
     "name": "stderr",
     "output_type": "stream",
     "text": [
      "100%|██████████| 508/508 [00:28<00:00, 17.86it/s]\n",
      "100%|██████████| 57/57 [00:04<00:00, 13.65it/s]\n",
      "100%|██████████| 63/63 [00:04<00:00, 13.14it/s]\n",
      "Computing transition probabilities: 100%|██████████| 26/26 [00:00<00:00, 4333.82it/s]\n"
     ]
    },
    {
     "name": "stdout",
     "output_type": "stream",
     "text": [
      "dirGCN with PPH: AUC = 0.7591\n"
     ]
    },
    {
     "name": "stderr",
     "output_type": "stream",
     "text": [
      "Computing transition probabilities: 100%|██████████| 26/26 [00:00<00:00, 4332.10it/s]\n"
     ]
    },
    {
     "name": "stdout",
     "output_type": "stream",
     "text": [
      "dirGCN without PPH: AUC = 0.7954\n"
     ]
    },
    {
     "name": "stderr",
     "output_type": "stream",
     "text": [
      "Computing transition probabilities: 100%|██████████| 26/26 [00:00<00:00, 4331.93it/s]\n"
     ]
    },
    {
     "name": "stdout",
     "output_type": "stream",
     "text": [
      "dirSage with PPH: AUC = 0.8347\n"
     ]
    },
    {
     "name": "stderr",
     "output_type": "stream",
     "text": [
      "Computing transition probabilities: 100%|██████████| 26/26 [00:00<00:00, 4339.68it/s]\n"
     ]
    },
    {
     "name": "stdout",
     "output_type": "stream",
     "text": [
      "dirSage without PPH: AUC = 0.8317\n"
     ]
    },
    {
     "name": "stderr",
     "output_type": "stream",
     "text": [
      "Computing transition probabilities: 100%|██████████| 26/26 [00:00<00:00, 4332.44it/s]\n"
     ]
    },
    {
     "name": "stdout",
     "output_type": "stream",
     "text": [
      "dirGAT with PPH: AUC = 0.8075\n"
     ]
    },
    {
     "name": "stderr",
     "output_type": "stream",
     "text": [
      "Computing transition probabilities: 100%|██████████| 26/26 [00:00<00:00, 4332.27it/s]\n"
     ]
    },
    {
     "name": "stdout",
     "output_type": "stream",
     "text": [
      "dirGAT without PPH: AUC = 0.7712\n",
      "\n",
      "=== Trial 3/10 ===\n"
     ]
    },
    {
     "name": "stderr",
     "output_type": "stream",
     "text": [
      "100%|██████████| 508/508 [00:28<00:00, 17.67it/s]\n",
      "100%|██████████| 57/57 [00:04<00:00, 13.31it/s]\n",
      "100%|██████████| 63/63 [00:04<00:00, 13.54it/s]\n",
      "Computing transition probabilities: 100%|██████████| 26/26 [00:00<00:00, 4331.93it/s]\n"
     ]
    },
    {
     "name": "stdout",
     "output_type": "stream",
     "text": [
      "dirGCN with PPH: AUC = 0.7923\n"
     ]
    },
    {
     "name": "stderr",
     "output_type": "stream",
     "text": [
      "Computing transition probabilities: 100%|██████████| 26/26 [00:00<00:00, 4331.41it/s]\n"
     ]
    },
    {
     "name": "stdout",
     "output_type": "stream",
     "text": [
      "dirGCN without PPH: AUC = 0.8317\n"
     ]
    },
    {
     "name": "stderr",
     "output_type": "stream",
     "text": [
      "Computing transition probabilities: 100%|██████████| 26/26 [00:00<00:00, 4332.27it/s]\n"
     ]
    },
    {
     "name": "stdout",
     "output_type": "stream",
     "text": [
      "dirSage with PPH: AUC = 0.8054\n"
     ]
    },
    {
     "name": "stderr",
     "output_type": "stream",
     "text": [
      "Computing transition probabilities: 100%|██████████| 26/26 [00:00<00:00, 4332.44it/s]\n"
     ]
    },
    {
     "name": "stdout",
     "output_type": "stream",
     "text": [
      "dirSage without PPH: AUC = 0.7621\n"
     ]
    },
    {
     "name": "stderr",
     "output_type": "stream",
     "text": [
      "Computing transition probabilities: 100%|██████████| 26/26 [00:00<00:00, 2888.56it/s]\n"
     ]
    },
    {
     "name": "stdout",
     "output_type": "stream",
     "text": [
      "dirGAT with PPH: AUC = 0.8306\n"
     ]
    },
    {
     "name": "stderr",
     "output_type": "stream",
     "text": [
      "Computing transition probabilities: 100%|██████████| 26/26 [00:00<00:00, 4332.27it/s]\n"
     ]
    },
    {
     "name": "stdout",
     "output_type": "stream",
     "text": [
      "dirGAT without PPH: AUC = 0.5917\n",
      "\n",
      "=== Trial 4/10 ===\n"
     ]
    },
    {
     "name": "stderr",
     "output_type": "stream",
     "text": [
      "100%|██████████| 508/508 [00:26<00:00, 19.00it/s]\n",
      "100%|██████████| 57/57 [00:04<00:00, 13.88it/s]\n",
      "100%|██████████| 63/63 [00:04<00:00, 13.22it/s]\n",
      "Computing transition probabilities: 100%|██████████| 26/26 [00:00<00:00, 5199.63it/s]\n"
     ]
    },
    {
     "name": "stdout",
     "output_type": "stream",
     "text": [
      "dirGCN with PPH: AUC = 0.7984\n"
     ]
    },
    {
     "name": "stderr",
     "output_type": "stream",
     "text": [
      "Computing transition probabilities: 100%|██████████| 26/26 [00:00<00:00, 3511.80it/s]\n"
     ]
    },
    {
     "name": "stdout",
     "output_type": "stream",
     "text": [
      "dirGCN without PPH: AUC = 0.7198\n"
     ]
    },
    {
     "name": "stderr",
     "output_type": "stream",
     "text": [
      "Computing transition probabilities: 100%|██████████| 26/26 [00:00<00:00, 3713.42it/s]\n"
     ]
    },
    {
     "name": "stdout",
     "output_type": "stream",
     "text": [
      "dirSage with PPH: AUC = 0.8337\n"
     ]
    },
    {
     "name": "stderr",
     "output_type": "stream",
     "text": [
      "Computing transition probabilities: 100%|██████████| 26/26 [00:00<00:00, 3294.82it/s]\n"
     ]
    },
    {
     "name": "stdout",
     "output_type": "stream",
     "text": [
      "dirSage without PPH: AUC = 0.7702\n"
     ]
    },
    {
     "name": "stderr",
     "output_type": "stream",
     "text": [
      "Computing transition probabilities: 100%|██████████| 26/26 [00:00<00:00, 3249.17it/s]\n"
     ]
    },
    {
     "name": "stdout",
     "output_type": "stream",
     "text": [
      "dirGAT with PPH: AUC = 0.7974\n"
     ]
    },
    {
     "name": "stderr",
     "output_type": "stream",
     "text": [
      "Computing transition probabilities: 100%|██████████| 26/26 [00:00<00:00, 4332.44it/s]\n"
     ]
    },
    {
     "name": "stdout",
     "output_type": "stream",
     "text": [
      "dirGAT without PPH: AUC = 0.7379\n",
      "\n",
      "=== Trial 5/10 ===\n"
     ]
    },
    {
     "name": "stderr",
     "output_type": "stream",
     "text": [
      "100%|██████████| 508/508 [00:26<00:00, 19.13it/s]\n",
      "100%|██████████| 57/57 [00:04<00:00, 13.50it/s]\n",
      "100%|██████████| 63/63 [00:04<00:00, 14.05it/s]\n",
      "Computing transition probabilities: 100%|██████████| 26/26 [00:00<00:00, 4332.44it/s]\n"
     ]
    },
    {
     "name": "stdout",
     "output_type": "stream",
     "text": [
      "dirGCN with PPH: AUC = 0.6552\n"
     ]
    },
    {
     "name": "stderr",
     "output_type": "stream",
     "text": [
      "Computing transition probabilities: 100%|██████████| 26/26 [00:00<00:00, 4332.27it/s]\n"
     ]
    },
    {
     "name": "stdout",
     "output_type": "stream",
     "text": [
      "dirGCN without PPH: AUC = 0.7893\n"
     ]
    },
    {
     "name": "stderr",
     "output_type": "stream",
     "text": [
      "Computing transition probabilities: 100%|██████████| 26/26 [00:00<00:00, 4332.44it/s]\n"
     ]
    },
    {
     "name": "stdout",
     "output_type": "stream",
     "text": [
      "dirSage with PPH: AUC = 0.7460\n"
     ]
    },
    {
     "name": "stderr",
     "output_type": "stream",
     "text": [
      "Computing transition probabilities: 100%|██████████| 26/26 [00:00<00:00, 4332.44it/s]\n"
     ]
    },
    {
     "name": "stdout",
     "output_type": "stream",
     "text": [
      "dirSage without PPH: AUC = 0.7742\n"
     ]
    },
    {
     "name": "stderr",
     "output_type": "stream",
     "text": [
      "Computing transition probabilities: 100%|██████████| 26/26 [00:00<00:00, 4255.02it/s]\n"
     ]
    },
    {
     "name": "stdout",
     "output_type": "stream",
     "text": [
      "dirGAT with PPH: AUC = 0.7198\n"
     ]
    },
    {
     "name": "stderr",
     "output_type": "stream",
     "text": [
      "Computing transition probabilities: 100%|██████████| 26/26 [00:00<00:00, 4332.27it/s]\n"
     ]
    },
    {
     "name": "stdout",
     "output_type": "stream",
     "text": [
      "dirGAT without PPH: AUC = 0.8014\n",
      "\n",
      "=== Trial 6/10 ===\n"
     ]
    },
    {
     "name": "stderr",
     "output_type": "stream",
     "text": [
      "100%|██████████| 508/508 [00:27<00:00, 18.16it/s]\n",
      "100%|██████████| 57/57 [00:04<00:00, 13.12it/s]\n",
      "100%|██████████| 63/63 [00:04<00:00, 13.94it/s]\n",
      "Computing transition probabilities: 100%|██████████| 26/26 [00:00<00:00, 4689.19it/s]\n"
     ]
    },
    {
     "name": "stdout",
     "output_type": "stream",
     "text": [
      "dirGCN with PPH: AUC = 0.7772\n"
     ]
    },
    {
     "name": "stderr",
     "output_type": "stream",
     "text": [
      "Computing transition probabilities: 100%|██████████| 26/26 [00:00<00:00, 3713.04it/s]\n"
     ]
    },
    {
     "name": "stdout",
     "output_type": "stream",
     "text": [
      "dirGCN without PPH: AUC = 0.7208\n"
     ]
    },
    {
     "name": "stderr",
     "output_type": "stream",
     "text": [
      "Computing transition probabilities: 100%|██████████| 26/26 [00:00<00:00, 4332.10it/s]\n"
     ]
    },
    {
     "name": "stdout",
     "output_type": "stream",
     "text": [
      "dirSage with PPH: AUC = 0.7742\n"
     ]
    },
    {
     "name": "stderr",
     "output_type": "stream",
     "text": [
      "Computing transition probabilities: 100%|██████████| 26/26 [00:00<00:00, 4332.61it/s]\n"
     ]
    },
    {
     "name": "stdout",
     "output_type": "stream",
     "text": [
      "dirSage without PPH: AUC = 0.7399\n"
     ]
    },
    {
     "name": "stderr",
     "output_type": "stream",
     "text": [
      "Computing transition probabilities: 100%|██████████| 26/26 [00:00<00:00, 3713.42it/s]\n"
     ]
    },
    {
     "name": "stdout",
     "output_type": "stream",
     "text": [
      "dirGAT with PPH: AUC = 0.7742\n"
     ]
    },
    {
     "name": "stderr",
     "output_type": "stream",
     "text": [
      "Computing transition probabilities: 100%|██████████| 26/26 [00:00<00:00, 4332.44it/s]\n"
     ]
    },
    {
     "name": "stdout",
     "output_type": "stream",
     "text": [
      "dirGAT without PPH: AUC = 0.7349\n",
      "\n",
      "=== Trial 7/10 ===\n"
     ]
    },
    {
     "name": "stderr",
     "output_type": "stream",
     "text": [
      "100%|██████████| 508/508 [00:27<00:00, 18.65it/s]\n",
      "100%|██████████| 57/57 [00:04<00:00, 13.25it/s]\n",
      "100%|██████████| 63/63 [00:04<00:00, 13.26it/s]\n",
      "Computing transition probabilities: 100%|██████████| 26/26 [00:00<00:00, 5198.15it/s]\n"
     ]
    },
    {
     "name": "stdout",
     "output_type": "stream",
     "text": [
      "dirGCN with PPH: AUC = 0.8810\n"
     ]
    },
    {
     "name": "stderr",
     "output_type": "stream",
     "text": [
      "Computing transition probabilities: 100%|██████████| 26/26 [00:00<00:00, 4332.27it/s]\n"
     ]
    },
    {
     "name": "stdout",
     "output_type": "stream",
     "text": [
      "dirGCN without PPH: AUC = 0.8569\n"
     ]
    },
    {
     "name": "stderr",
     "output_type": "stream",
     "text": [
      "Computing transition probabilities: 100%|██████████| 26/26 [00:00<00:00, 4234.37it/s]\n"
     ]
    },
    {
     "name": "stdout",
     "output_type": "stream",
     "text": [
      "dirSage with PPH: AUC = 0.8760\n"
     ]
    },
    {
     "name": "stderr",
     "output_type": "stream",
     "text": [
      "Computing transition probabilities: 100%|██████████| 26/26 [00:00<00:00, 4332.61it/s]\n"
     ]
    },
    {
     "name": "stdout",
     "output_type": "stream",
     "text": [
      "dirSage without PPH: AUC = 0.8569\n"
     ]
    },
    {
     "name": "stderr",
     "output_type": "stream",
     "text": [
      "Computing transition probabilities: 100%|██████████| 26/26 [00:00<00:00, 4332.10it/s]\n"
     ]
    },
    {
     "name": "stdout",
     "output_type": "stream",
     "text": [
      "dirGAT with PPH: AUC = 0.8468\n"
     ]
    },
    {
     "name": "stderr",
     "output_type": "stream",
     "text": [
      "Computing transition probabilities: 100%|██████████| 26/26 [00:00<00:00, 4331.93it/s]\n"
     ]
    },
    {
     "name": "stdout",
     "output_type": "stream",
     "text": [
      "dirGAT without PPH: AUC = 0.8599\n",
      "\n",
      "=== Trial 8/10 ===\n"
     ]
    },
    {
     "name": "stderr",
     "output_type": "stream",
     "text": [
      "100%|██████████| 508/508 [00:28<00:00, 18.09it/s]\n",
      "100%|██████████| 57/57 [00:04<00:00, 13.24it/s]\n",
      "100%|██████████| 63/63 [00:04<00:00, 13.54it/s]\n",
      "Computing transition probabilities: 100%|██████████| 26/26 [00:00<00:00, 4332.27it/s]\n"
     ]
    },
    {
     "name": "stdout",
     "output_type": "stream",
     "text": [
      "dirGCN with PPH: AUC = 0.7782\n"
     ]
    },
    {
     "name": "stderr",
     "output_type": "stream",
     "text": [
      "Computing transition probabilities: 100%|██████████| 26/26 [00:00<00:00, 3868.32it/s]\n"
     ]
    },
    {
     "name": "stdout",
     "output_type": "stream",
     "text": [
      "dirGCN without PPH: AUC = 0.7258\n"
     ]
    },
    {
     "name": "stderr",
     "output_type": "stream",
     "text": [
      "Computing transition probabilities: 100%|██████████| 26/26 [00:00<00:00, 3712.91it/s]\n"
     ]
    },
    {
     "name": "stdout",
     "output_type": "stream",
     "text": [
      "dirSage with PPH: AUC = 0.7520\n"
     ]
    },
    {
     "name": "stderr",
     "output_type": "stream",
     "text": [
      "Computing transition probabilities: 100%|██████████| 26/26 [00:00<00:00, 3713.16it/s]\n"
     ]
    },
    {
     "name": "stdout",
     "output_type": "stream",
     "text": [
      "dirSage without PPH: AUC = 0.7500\n"
     ]
    },
    {
     "name": "stderr",
     "output_type": "stream",
     "text": [
      "Computing transition probabilities: 100%|██████████| 26/26 [00:00<00:00, 3704.84it/s]\n"
     ]
    },
    {
     "name": "stdout",
     "output_type": "stream",
     "text": [
      "dirGAT with PPH: AUC = 0.7782\n"
     ]
    },
    {
     "name": "stderr",
     "output_type": "stream",
     "text": [
      "Computing transition probabilities: 100%|██████████| 26/26 [00:00<00:00, 3996.77it/s]\n"
     ]
    },
    {
     "name": "stdout",
     "output_type": "stream",
     "text": [
      "dirGAT without PPH: AUC = 0.7611\n",
      "\n",
      "=== Trial 9/10 ===\n"
     ]
    },
    {
     "name": "stderr",
     "output_type": "stream",
     "text": [
      "100%|██████████| 508/508 [00:28<00:00, 17.98it/s]\n",
      "100%|██████████| 57/57 [00:04<00:00, 13.77it/s]\n",
      "100%|██████████| 63/63 [00:04<00:00, 13.75it/s]\n",
      "Computing transition probabilities: 100%|██████████| 26/26 [00:00<00:00, 4450.19it/s]\n"
     ]
    },
    {
     "name": "stdout",
     "output_type": "stream",
     "text": [
      "dirGCN with PPH: AUC = 0.7510\n"
     ]
    },
    {
     "name": "stderr",
     "output_type": "stream",
     "text": [
      "Computing transition probabilities: 100%|██████████| 26/26 [00:00<00:00, 4332.61it/s]\n"
     ]
    },
    {
     "name": "stdout",
     "output_type": "stream",
     "text": [
      "dirGCN without PPH: AUC = 0.7671\n"
     ]
    },
    {
     "name": "stderr",
     "output_type": "stream",
     "text": [
      "Computing transition probabilities: 100%|██████████| 26/26 [00:00<00:00, 3714.05it/s]\n"
     ]
    },
    {
     "name": "stdout",
     "output_type": "stream",
     "text": [
      "dirSage with PPH: AUC = 0.7510\n"
     ]
    },
    {
     "name": "stderr",
     "output_type": "stream",
     "text": [
      "Computing transition probabilities: 100%|██████████| 26/26 [00:00<00:00, 4332.44it/s]\n"
     ]
    },
    {
     "name": "stdout",
     "output_type": "stream",
     "text": [
      "dirSage without PPH: AUC = 0.7752\n"
     ]
    },
    {
     "name": "stderr",
     "output_type": "stream",
     "text": [
      "Computing transition probabilities: 100%|██████████| 26/26 [00:00<00:00, 4332.44it/s]\n"
     ]
    },
    {
     "name": "stdout",
     "output_type": "stream",
     "text": [
      "dirGAT with PPH: AUC = 0.7964\n"
     ]
    },
    {
     "name": "stderr",
     "output_type": "stream",
     "text": [
      "Computing transition probabilities: 100%|██████████| 26/26 [00:00<00:00, 4327.28it/s]\n"
     ]
    },
    {
     "name": "stdout",
     "output_type": "stream",
     "text": [
      "dirGAT without PPH: AUC = 0.7661\n",
      "\n",
      "=== Trial 10/10 ===\n"
     ]
    },
    {
     "name": "stderr",
     "output_type": "stream",
     "text": [
      "100%|██████████| 508/508 [00:27<00:00, 18.55it/s]\n",
      "100%|██████████| 57/57 [00:04<00:00, 13.71it/s]\n",
      "100%|██████████| 63/63 [00:04<00:00, 14.49it/s]\n",
      "Computing transition probabilities: 100%|██████████| 26/26 [00:00<00:00, 5199.39it/s]\n"
     ]
    },
    {
     "name": "stdout",
     "output_type": "stream",
     "text": [
      "dirGCN with PPH: AUC = 0.7782\n"
     ]
    },
    {
     "name": "stderr",
     "output_type": "stream",
     "text": [
      "Computing transition probabilities: 100%|██████████| 26/26 [00:00<00:00, 4724.54it/s]\n"
     ]
    },
    {
     "name": "stdout",
     "output_type": "stream",
     "text": [
      "dirGCN without PPH: AUC = 0.7853\n"
     ]
    },
    {
     "name": "stderr",
     "output_type": "stream",
     "text": [
      "Computing transition probabilities: 100%|██████████| 26/26 [00:00<00:00, 3979.71it/s]\n"
     ]
    },
    {
     "name": "stdout",
     "output_type": "stream",
     "text": [
      "dirSage with PPH: AUC = 0.7974\n"
     ]
    },
    {
     "name": "stderr",
     "output_type": "stream",
     "text": [
      "Computing transition probabilities: 100%|██████████| 26/26 [00:00<00:00, 4338.82it/s]\n"
     ]
    },
    {
     "name": "stdout",
     "output_type": "stream",
     "text": [
      "dirSage without PPH: AUC = 0.7681\n"
     ]
    },
    {
     "name": "stderr",
     "output_type": "stream",
     "text": [
      "Computing transition probabilities: 100%|██████████| 26/26 [00:00<00:00, 4332.79it/s]\n"
     ]
    },
    {
     "name": "stdout",
     "output_type": "stream",
     "text": [
      "dirGAT with PPH: AUC = 0.8024\n"
     ]
    },
    {
     "name": "stderr",
     "output_type": "stream",
     "text": [
      "Computing transition probabilities: 100%|██████████| 26/26 [00:00<00:00, 3713.54it/s]\n"
     ]
    },
    {
     "name": "stdout",
     "output_type": "stream",
     "text": [
      "dirGAT without PPH: AUC = 0.7490\n",
      "\n",
      "dirGCN Results:\n",
      "With PPH: Mean AUC = 0.7666 (±0.0574)\n",
      "Without PPH: Mean AUC = 0.7717 (±0.0464)\n",
      "Paired t-test p-value: 0.8025\n",
      "Not significant\n",
      "\n",
      "dirSage Results:\n",
      "With PPH: Mean AUC = 0.7947 (±0.0409)\n",
      "Without PPH: Mean AUC = 0.7755 (±0.0378)\n",
      "Paired t-test p-value: 0.0799\n",
      "Not significant\n",
      "\n",
      "dirGAT Results:\n",
      "With PPH: Mean AUC = 0.7840 (±0.0459)\n",
      "Without PPH: Mean AUC = 0.7572 (±0.0654)\n",
      "Paired t-test p-value: 0.3911\n",
      "Not significant\n"
     ]
    }
   ],
   "source": [
    "for name in [\"bison\"]:\n",
    "    for edge_depth in [5, 9]:\n",
    "        print(f\"\\n===== CALCULATING {name} with {edge_depth} =====\")\n",
    "        num_trials = 10\n",
    "        model_types = ['dirGCN', 'dirSage', 'dirGAT']\n",
    "        use_pph_options = [True, False]\n",
    "        random_seed = 575757\n",
    "        edgeres = 10\n",
    "        res = 10\n",
    "        custom_feat_dim = 3 * res**2\n",
    "\n",
    "        # Results dictionary\n",
    "        results = {model: {True: [], False: []} for model in model_types}\n",
    "\n",
    "        random_seed = 575757\n",
    "        np.random.seed(random_seed)\n",
    "        random.seed(random_seed)\n",
    "\n",
    "        if name == \"bison\":\n",
    "            file_path = r\"data_final\\Bison\\out.moreno_bison_bison\"\n",
    "            nx_digraph = nx.read_edgelist(\n",
    "                file_path,\n",
    "                comments=\"%\",\n",
    "                data=[(\"weight\", float)],\n",
    "                nodetype=int,\n",
    "                create_using=nx.DiGraph,\n",
    "            )\n",
    "        elif name == \"highschool\":\n",
    "            file_path = r\"data\\moreno_highschool\\out.moreno_highschool_highschool\"\n",
    "            nx_digraph = nx.read_edgelist(\n",
    "                file_path,\n",
    "                comments=\"%\",\n",
    "                data=[(\"weight\", float)],\n",
    "                nodetype=int,\n",
    "                create_using=nx.DiGraph,\n",
    "            )\n",
    "        elif name == \"caenorhabditis\":\n",
    "            file_path = r\"data_final\\Caenorhabditis_elegans\\out.dimacs10-celegansneural\"\n",
    "            nx_digraph = nx.read_edgelist(\n",
    "                file_path,\n",
    "                comments=\"%\",\n",
    "                data=[(\"weight\", float)],\n",
    "                nodetype=int,\n",
    "                create_using=nx.DiGraph,\n",
    "            )\n",
    "        elif name == \"congress_vote\":\n",
    "            file_path = r\"data_final\\Congress_votes\\out.convote\"\n",
    "            nx_digraph = nx.read_edgelist(\n",
    "                file_path,\n",
    "                comments=\"%\",\n",
    "                data=[(\"weight\", float)],\n",
    "                nodetype=int,\n",
    "                create_using=nx.DiGraph,\n",
    "            )\n",
    "        elif name == \"florida_ecosystem_dry\":\n",
    "            file_path = r\"data_final\\Florida_ecosystem_dry\\out.foodweb-baydry\"\n",
    "            nx_digraph = nx.read_edgelist(\n",
    "                file_path,\n",
    "                comments=\"%\",\n",
    "                data=[(\"weight\", float)],\n",
    "                nodetype=int,\n",
    "                create_using=nx.DiGraph,\n",
    "            )\n",
    "        elif name == \"japanese_macaques\":\n",
    "            file_path = r\"data_final\\Japanese_macaques\\out.moreno_mac_mac\"\n",
    "            nx_digraph = nx.read_edgelist(\n",
    "                file_path,\n",
    "                comments=\"%\",\n",
    "                data=[(\"weight\", float)],\n",
    "                nodetype=int,\n",
    "                create_using=nx.DiGraph,\n",
    "            )\n",
    "        elif name == \"little_rock_lake\":\n",
    "            file_path = r\"data_final\\Little_Rock_Lake\\out.maayan-foodweb\"\n",
    "            nx_digraph = nx.read_edgelist(\n",
    "                file_path,\n",
    "                comments=\"%\",\n",
    "                data=[],\n",
    "                nodetype=int,\n",
    "                create_using=nx.DiGraph,\n",
    "            )\n",
    "        elif name == \"physicians\":\n",
    "            file_path = r\"data_final\\Physicians\\out.moreno_innovation_innovation\"\n",
    "            nx_digraph = nx.read_edgelist(\n",
    "                file_path,\n",
    "                comments=\"%\",\n",
    "                data=[],\n",
    "                nodetype=int,\n",
    "                create_using=nx.DiGraph,\n",
    "            )\n",
    "        elif name == \"figeys\":\n",
    "            file_path = r\"data_final\\Proteins-figeys\\out.maayan-figeys\"\n",
    "            nx_digraph = nx.read_edgelist(\n",
    "                file_path,\n",
    "                comments=\"%\",\n",
    "                data=[],\n",
    "                nodetype=int,\n",
    "                create_using=nx.DiGraph,\n",
    "            )\n",
    "        elif name == \"stelzl\":\n",
    "            file_path = r\"data_final\\Proteins-Stelzl\\out.maayan-Stelzl\"\n",
    "            nx_digraph = nx.read_edgelist(\n",
    "                file_path,\n",
    "                comments=\"%\",\n",
    "                data=[(\"weight\", float)],\n",
    "                nodetype=int,\n",
    "                create_using=nx.DiGraph,\n",
    "            )\n",
    "        elif name == \"air_traffic_control\":\n",
    "            file_path = r\"data_final\\air_traffic_control\\out.maayan-faa\"\n",
    "            nx_digraph = nx.read_edgelist(\n",
    "                file_path,\n",
    "                comments=\"%\",\n",
    "                data=[],\n",
    "                nodetype=int,\n",
    "                create_using=nx.DiGraph,\n",
    "            )\n",
    "        mapping = {node: i for i, node in enumerate(nx_digraph.nodes())}\n",
    "        nx_digraph = nx.relabel_nodes(nx_digraph, mapping)\n",
    "        nx_digraph.remove_edges_from(list(nx.selfloop_edges(nx_digraph)))\n",
    "        print(f\"we have a digraph with {len(nx_digraph.nodes())} nodes and {len(nx_digraph.edges())} edges\")\n",
    "        for u, v, d in nx_digraph.edges(data=True):\n",
    "            if 'weight' in d:\n",
    "                if not np.isfinite(d['weight']) or d['weight'] <= 0:\n",
    "                    d['weight'] = 1.0  # Set to default positive value\n",
    "            else:\n",
    "                # Add weight if missing\n",
    "                nx_digraph[u][v]['weight'] = 1.0\n",
    "\n",
    "        for trial in range(num_trials):\n",
    "            print(f\"\\n=== Trial {trial+1}/{num_trials} ===\")\n",
    "            trial_seed = random_seed + trial\n",
    "            \n",
    "            # Set all seeds\n",
    "            np.random.seed(trial_seed)\n",
    "            random.seed(trial_seed)\n",
    "            torch.manual_seed(trial_seed)\n",
    "            \n",
    "            # Generate splits for this trial\n",
    "            pos_edges = list(nx_digraph.edges())\n",
    "            pos_u, pos_v = zip(*pos_edges) if pos_edges else ([], [])\n",
    "            num_pos = len(pos_edges)\n",
    "            neg_edges = generate_negative_samples(nx_digraph, num_pos)\n",
    "            neg_u, neg_v = zip(*neg_edges) if neg_edges else ([], [])\n",
    "            \n",
    "            # Combine and split data\n",
    "            all_u = np.concatenate([pos_u, neg_u])\n",
    "            all_v = np.concatenate([pos_v, neg_v])\n",
    "            all_labels = np.concatenate([np.ones(num_pos), np.zeros(len(neg_u))])\n",
    "            \n",
    "            # Train/Val/Test split\n",
    "            train_u, test_u, train_v, test_v, train_labels, test_labels = train_test_split(\n",
    "                all_u, all_v, all_labels, test_size=0.1, random_state=trial_seed, stratify=all_labels\n",
    "            )\n",
    "            train_u, val_u, train_v, val_v, train_labels, val_labels = train_test_split(\n",
    "                train_u, train_v, train_labels, test_size=0.1, random_state=trial_seed, stratify=train_labels\n",
    "            )\n",
    "            \n",
    "            # Create trial graph (remove test positive edges)\n",
    "            test_pos_mask = (test_labels == 1)\n",
    "            test_pos_u = test_u[test_pos_mask]\n",
    "            test_pos_v = test_v[test_pos_mask]\n",
    "            graph = nx_digraph.copy()\n",
    "            # Remove test edges from the graph\n",
    "            for u, v in zip(test_u, test_v):\n",
    "                if nx_digraph.has_edge(u, v):\n",
    "                    graph.remove_edge(u, v)\n",
    "\n",
    "            for u, v in zip(val_u, val_v):\n",
    "                if nx_digraph.has_edge(u, v):\n",
    "                    graph.remove_edge(u, v)\n",
    "            # Prepare edge features\n",
    "            edge_graph = ListDigraph(graph.number_of_nodes(), graph.number_of_edges())\n",
    "            for u, v in graph.edges():\n",
    "                edge_graph.add_edge(u, v)\n",
    "            \n",
    "            def compute_features(edges):\n",
    "                edge_list = list(edges)  # Convert to list to get length\n",
    "                return compute_edge_features_parallel(\n",
    "                    edge_graph, edge_list, max_depth=edge_depth, resolution=edgeres, total=len(edge_list)\n",
    "                )\n",
    "            \n",
    "            train_features = torch.tensor(compute_features(zip(train_u, train_v)), dtype=torch.float32)\n",
    "            val_features = torch.tensor(compute_features(zip(val_u, val_v)), dtype=torch.float32)\n",
    "            test_features = torch.tensor(compute_features(zip(test_u, test_v)), dtype=torch.float32)\n",
    "            \n",
    "            edge_index = torch.tensor(list(graph.edges())).t().contiguous()\n",
    "            num_nodes = graph.number_of_nodes()\n",
    "            \n",
    "            for model_type in model_types:\n",
    "                for use_pph in use_pph_options:\n",
    "                    # Node feature computation\n",
    "                    # if use_pph:\n",
    "                    #     features = compute_node_features_parallel(\n",
    "                    #         edge_graph, np.arange(num_nodes),\n",
    "                    #         max_depth=6, resolution=res,\n",
    "                    #         max_workers=12, chunksize=num_nodes//16+1,\n",
    "                    #         total=num_nodes\n",
    "                    #     )\n",
    "                    # else:\n",
    "                    node2vec = Node2Vec(graph, dimensions=custom_feat_dim, \n",
    "                                        walk_length=50, num_walks=300, workers=4)\n",
    "                    model_n2v = node2vec.fit(window=10, min_count=1)\n",
    "                    features = np.array([model_n2v.wv[str(node)] for node in graph.nodes()])\n",
    "                    \n",
    "                    features = torch.tensor(features, dtype=torch.float32)\n",
    "                    \n",
    "                    # Model initialization\n",
    "                    model = LinkPredictionModel(\n",
    "                        type=model_type,\n",
    "                        in_feats=features.shape[1],\n",
    "                        gnn_hidden_size=custom_feat_dim,\n",
    "                        edge_feature_use=use_pph,\n",
    "                        edge_emb_size=edgeres**2*3,\n",
    "                        fc_hidden_size=128,\n",
    "                        num_hidden_layers=0,\n",
    "                        gnn_layers=2,\n",
    "                    )\n",
    "                    optimizer = optim.Adam(model.parameters(), lr=0.001)\n",
    "                    \n",
    "                    # Training loop with early stopping\n",
    "                    best_val_loss = float('inf')\n",
    "                    patience_counter = 0\n",
    "                    best_model_state = None\n",
    "                    \n",
    "                    for epoch in range(500):\n",
    "                        model.train()\n",
    "                        optimizer.zero_grad()\n",
    "                        \n",
    "                        preds = model(edge_index, train_u, train_v, train_features, features).squeeze()\n",
    "                        loss = nn.BCELoss()(preds, torch.tensor(train_labels, dtype=torch.float32))\n",
    "                        loss.backward()\n",
    "                        optimizer.step()\n",
    "                        \n",
    "                        # Validation\n",
    "                        model.eval()\n",
    "                        with torch.no_grad():\n",
    "                            val_preds = model(edge_index, val_u, val_v, val_features, features).squeeze()\n",
    "                            val_loss = nn.BCELoss()(val_preds, torch.tensor(val_labels, dtype=torch.float32))\n",
    "                        \n",
    "                        if val_loss < best_val_loss:\n",
    "                            best_val_loss = val_loss\n",
    "                            best_model_state = copy.deepcopy(model.state_dict())\n",
    "                            patience_counter = 0\n",
    "                        else:\n",
    "                            patience_counter += 1\n",
    "                        \n",
    "                        if patience_counter >= 100:\n",
    "                            break\n",
    "                    \n",
    "                    # Final evaluation\n",
    "                    model.load_state_dict(best_model_state)\n",
    "                    with torch.no_grad():\n",
    "                        test_preds = model(edge_index, test_u, test_v, test_features, features).squeeze()\n",
    "                        auc = roc_auc_score(test_labels, test_preds.numpy())\n",
    "                    \n",
    "                    results[model_type][use_pph].append(auc)\n",
    "                    print(f\"{model_type} with{'' if use_pph else 'out'} PPH: AUC = {auc:.4f}\")\n",
    "\n",
    "        # Statistical analysis\n",
    "        for model in model_types:\n",
    "            with_pph = results[model][True]\n",
    "            without_pph = results[model][False]\n",
    "            t_stat, p_value = ttest_rel(with_pph, without_pph)\n",
    "            \n",
    "            print(f\"\\n{model} Results:\")\n",
    "            print(f\"With PPH: Mean AUC = {np.mean(with_pph):.4f} (±{np.std(with_pph):.4f})\")\n",
    "            print(f\"Without PPH: Mean AUC = {np.mean(without_pph):.4f} (±{np.std(without_pph):.4f})\")\n",
    "            print(f\"Paired t-test p-value: {p_value:.4f}\")\n",
    "            print(\"Significant at p < 0.05\" if p_value < 0.05 else \"Not significant\")"
   ]
  }
 ],
 "metadata": {
  "kernelspec": {
   "display_name": ".venv",
   "language": "python",
   "name": "python3"
  },
  "language_info": {
   "codemirror_mode": {
    "name": "ipython",
    "version": 3
   },
   "file_extension": ".py",
   "mimetype": "text/x-python",
   "name": "python",
   "nbconvert_exporter": "python",
   "pygments_lexer": "ipython3",
   "version": "3.10.16"
  }
 },
 "nbformat": 4,
 "nbformat_minor": 2
}
